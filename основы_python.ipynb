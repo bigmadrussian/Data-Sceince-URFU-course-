{
  "cells": [
    {
      "cell_type": "code",
      "execution_count": 74,
      "metadata": {},
      "outputs": [],
      "source": [
        "import math"
      ]
    },
    {
      "cell_type": "markdown",
      "metadata": {
        "id": "M-DGa20PaHnu"
      },
      "source": [
        "#Задача 1\n",
        "Написать функцию на вход которой подается строка, состоящая из латинских букв.\n",
        "Функция должна вернуть количество гласных букв (a, e, i, o, u) в этой строке. Написать тесты для кода"
      ]
    },
    {
      "cell_type": "code",
      "execution_count": 38,
      "metadata": {
        "id": "XvX8X_JJ6PCb"
      },
      "outputs": [
        {
          "name": "stdout",
          "output_type": "stream",
          "text": [
            "Все тесты прошли успешно!\n"
          ]
        }
      ],
      "source": [
        "def get_vowel_count  (s):\n",
        "    vowels = ['a', 'e', 'i', 'o', 'u']\n",
        "    vowels_count = 0\n",
        "    \n",
        "    for char in s:\n",
        "        if char.lower() in vowels:\n",
        "            vowels_count += 1\n",
        "    return vowels_count\n",
        "    \n",
        "# Тесты:\n",
        "assert get_vowel_count (\"\") == 0, \"Пустая строка → 0 гласных\"\n",
        "assert get_vowel_count (\"xyz\") == 0, \"Нет гласных → 0\"\n",
        "assert get_vowel_count (\"aeiou\") == 5, \"Все гласные → 5\"\n",
        "assert get_vowel_count (\"Hello World\") == 3, \"Hello World → 3 гласных (e, o, o)\"\n",
        "assert get_vowel_count (\"bcdfg\") == 0, \"Только согласные → 0\"\n",
        "assert get_vowel_count (\"AeIoU\") == 5, \"Гласные в разном регистре → 5\"\n",
        "\n",
        "print(\"Все тесты прошли успешно!\")"
      ]
    },
    {
      "cell_type": "markdown",
      "metadata": {
        "id": "t2ClV_Y0bbr6"
      },
      "source": [
        "# Задача 2\n",
        "Написать функцию на вход, которой подается строка. Функция должна вернуть true, если\n",
        "каждый символ в строке встречается только 1 раз, иначе должна вернуть false. Написать тесты для кода"
      ]
    },
    {
      "cell_type": "code",
      "execution_count": 37,
      "metadata": {
        "id": "FppbECao6VIz"
      },
      "outputs": [
        {
          "name": "stdout",
          "output_type": "stream",
          "text": [
            "Все тесты прошли успешно!\n"
          ]
        }
      ],
      "source": [
        "def all_unique_chars (s):\n",
        "    return len(s) == len(set(s))\n",
        "            \n",
        "assert all_unique_chars(\"\") == True\n",
        "assert all_unique_chars(\"abc\") == True\n",
        "assert all_unique_chars(\"aabb\") == False\n",
        "assert all_unique_chars(\"Aa\") == True\n",
        "assert all_unique_chars(\"hello world\") == False\n",
        "\n",
        "print(\"Все тесты прошли успешно!\")"
      ]
    },
    {
      "cell_type": "markdown",
      "metadata": {
        "id": "udRiIK1cdt6E"
      },
      "source": [
        "# Задача 3\n",
        "Написать функцию, которая принимает положительное число и возвращает количество\n",
        "бит равных 1 в этом числе. Написать тесты для кода"
      ]
    },
    {
      "cell_type": "code",
      "execution_count": 47,
      "metadata": {
        "id": "6tkfDJRz6dp_"
      },
      "outputs": [
        {
          "name": "stdout",
          "output_type": "stream",
          "text": [
            "Все тесты прошли успешно!\n"
          ]
        }
      ],
      "source": [
        "def count_set_bits(positive_number):\n",
        "    if positive_number > 0:\n",
        "        return bin(positive_number).count('1')\n",
        "    else:\n",
        "        return \"Введено некорректное значение (строка или отрицательное число)\"\n",
        "    \n",
        "# Позитивные тесты\n",
        "assert count_set_bits(1) == 1      # 1 → \"1\" → одна единица\n",
        "assert count_set_bits(2) == 1      # 2 → \"10\" → одна единица\n",
        "assert count_set_bits(3) == 2      # 3 → \"11\" → две единицы\n",
        "assert count_set_bits(255) == 8    # 255 → \"11111111\" → 8 единиц\n",
        "assert count_set_bits(1023) == 10  # 1023 → \"1111111111\" → 10 единиц\n",
        "\n",
        "# Негативные тесты\n",
        "assert count_set_bits(-1) == \"Введено некорректное значение (строка или отрицательное число)\"  # Отрицательное число\n",
        "assert count_set_bits(0) == \"Введено некорректное значение (строка или отрицательное число)\"   # Ноль (не положительное)\n",
        "assert count_set_bits(-1023) == \"Введено некорректное значение (строка или отрицательное число)\"  # Отрицательное число\n",
        "\n",
        "# Проверка на ввод строки:\n",
        "try:\n",
        "    count_set_bits(\"abc\")  # Передача строки вместо числа\n",
        "    assert False, \"Функция не вызвала ошибку при нечисловом вводе\"\n",
        "except (AttributeError, TypeError):\n",
        "    pass  # Ожидаемое поведение (вызовет ошибку при работе с bin())\n",
        "print(\"Все тесты прошли успешно!\")"
      ]
    },
    {
      "cell_type": "markdown",
      "metadata": {
        "id": "26dDUz-Ae17N"
      },
      "source": [
        "# Задача 4\n",
        "Написать функцию, которая принимает положительное число. Функция должна вернуть то,\n",
        "сколько раз необходимо перемножать цифры числа или результат перемножения, чтобы\n",
        "получилось число состоящее из одной цифры.\n",
        "Например, для входного числа:\n",
        "· 39 функция должна вернуть 3, так как 3*9=27 => 2*7=14 => 1*4=4\n",
        "· 4 функция должна вернуть 0, так как число уже состоит из одной цифры\n",
        "· 999 функция должна вернуть 4, так как 9*9*9=729 => 7*2*9=126 => 1*2*6=12 =>\n",
        "1*2=2. Написать тесты для кода"
      ]
    },
    {
      "cell_type": "code",
      "execution_count": 70,
      "metadata": {
        "id": "BH1A_Mgi6i4G"
      },
      "outputs": [
        {
          "name": "stdout",
          "output_type": "stream",
          "text": [
            "Все тесты пройдены успешно!\n"
          ]
        }
      ],
      "source": [
        "def magic(n):\n",
        "    \n",
        "    # Проверка типа входных данных\n",
        "    if not isinstance(n, int):\n",
        "        raise TypeError(\"Введено не целочисленное число\")\n",
        "    \n",
        "    # Проверка отрицательных чисел\n",
        "    if n < 0:\n",
        "        raise ValueError(\"Введено отрицательное число\")\n",
        "    \n",
        "    # Обработка случая с нулём (0 уже однозначное число)\n",
        "    if n == 0:\n",
        "        return 0\n",
        "    \n",
        "    count_steps = 0\n",
        "    while n >= 10:\n",
        "        initial_value = 1\n",
        "        for digit in str(n):  # используем встроенный str напрямую\n",
        "            initial_value *= int(digit)\n",
        "        n = initial_value\n",
        "        count_steps += 1\n",
        "    return count_steps\n",
        "\n",
        "# Позитивные тесты (корректные случаи)\n",
        "assert magic(4) == 0     # Однозначное число (должно вернуть 0)\n",
        "assert magic(10) == 1    # 1*0=0 (1 шаг)\n",
        "assert magic(25) == 2    # 2*5=10 → 1*0=0 (2 шага)\n",
        "assert magic(39) == 3    # 3*9=27 → 2*7=14 → 1*4=4 (3 шага)\n",
        "assert magic(999) == 4   # 9*9*9=729 → 7*2*9=126 → 1*2*6=12 → 1*2=2 (4 шага)\n",
        "\n",
        "# Тест с числом, содержащим 0\n",
        "assert magic(101) == 1   # 1*0*1=0 → уже однозначное (2 шага с учетом нуля)\n",
        "\n",
        "# Негативные тесты (проверка обработки ошибок)\n",
        "try:\n",
        "    magic(\"abc\")         # Нечисловой ввод\n",
        "    assert False, \"Функция должна вызывать TypeError для строкового ввода\"\n",
        "except TypeError:\n",
        "    pass\n",
        "\n",
        "try:\n",
        "    magic(-5)            # Отрицательное число\n",
        "    assert False, \"Функция должна вызывать ValueError для отрицательных чисел\"\n",
        "except ValueError:\n",
        "    pass\n",
        "\n",
        "try:\n",
        "    magic(3.14)\n",
        "    assert False, \"Должен быть TypeError для float\"\n",
        "except TypeError:\n",
        "    pass\n",
        "\n",
        "# Граничные случаи\n",
        "assert magic(0) == 0     # Ноль - однозначное число\n",
        "assert magic(1) == 0     # Граничное значение\n",
        "\n",
        "print(\"Все тесты пройдены успешно!\")\n"
      ]
    },
    {
      "cell_type": "markdown",
      "metadata": {
        "id": "0nS-kIa8g8vd"
      },
      "source": [
        "# Задача 5\n",
        "Написать функцию, которая принимает два целочисленных вектора одинаковой длины и\n",
        "возвращает среднеквадратическое отклонение двух векторов. Написать тесты для кода"
      ]
    },
    {
      "cell_type": "code",
      "execution_count": 77,
      "metadata": {
        "id": "8iphx4LM6xbx"
      },
      "outputs": [
        {
          "name": "stdout",
          "output_type": "stream",
          "text": [
            "Все тесты прошли успешно!\n"
          ]
        }
      ],
      "source": [
        "import math\n",
        "\n",
        "def rmse(pred, true):\n",
        "    if len(pred) != len(true):\n",
        "        raise ValueError(\"Векторы должны быть одинаковой длины\")\n",
        "    if not pred or not true:  # если векторы пустые\n",
        "        raise ValueError(\"Векторы не должны быть пустыми\")\n",
        "    \n",
        "    sum_sq = 0.0\n",
        "    for x, y in zip(pred, true):\n",
        "        diff = x - y\n",
        "        sum_sq += diff ** 2\n",
        "    \n",
        "    mean_squared_diff = sum_sq / len(pred)\n",
        "    return math.sqrt(mean_squared_diff)\n",
        "\n",
        "\n",
        "def test_rmse():\n",
        "    # Тест с одинаковыми векторами (должен вернуть 0)\n",
        "    pred = [1, 2, 3, 4, 5]\n",
        "    true = [1, 2, 3, 4, 5]\n",
        "    assert rmse(pred, true) == 0.0\n",
        "    \n",
        "    # Тест с разными векторами\n",
        "    pred = [1, 2, 3, 4, 5]\n",
        "    true = [2, 3, 4, 5, 6]\n",
        "    expected = math.sqrt((1**2 + 1**2 + 1**2 + 1**2 + 1**2)/5)\n",
        "    assert rmse(pred, true) == expected\n",
        "    \n",
        "    # Тест с одним элементом\n",
        "    pred = [10]\n",
        "    true = [8]\n",
        "    assert rmse(pred, true) == 2.0\n",
        "    \n",
        "    # Тест с дробными числами\n",
        "    pred = [1.5, 2.5, 3.5]\n",
        "    true = [1.0, 2.0, 3.0]\n",
        "    expected = math.sqrt((0.5**2 + 0.5**2 + 0.5**2)/3)\n",
        "    assert abs(rmse(pred, true) - expected) < 1e-10\n",
        "    \n",
        "    # Проверка на пустые векторы\n",
        "    try:\n",
        "        rmse([], [])\n",
        "        assert False, \"Должно было возникнуть ValueError для пустых векторов\"\n",
        "    except ValueError:\n",
        "        pass\n",
        "    \n",
        "    # Проверка на разную длину векторов\n",
        "    try:\n",
        "        rmse([1, 2], [1, 2, 3])\n",
        "        assert False, \"Должно было возникнуть ValueError для векторов разной длины\"\n",
        "    except ValueError:\n",
        "        pass\n",
        "\n",
        "# Запуск тестов\n",
        "test_rmse()\n",
        "print(\"Все тесты прошли успешно!\")"
      ]
    },
    {
      "cell_type": "markdown",
      "metadata": {
        "id": "vpIPKL439zkw"
      },
      "source": [
        "# Задача 6\n",
        "Написать функцию, принимающая целое положительное число. Функция должна вернуть\n",
        "строку вида “(n1**p1)(n2**p2)…(nk**pk)” представляющая разложение числа на простые\n",
        "множители (если pi == 1, то выводить только ni).\n",
        "Например, для числа 86240 функция должна вернуть “(2**5)(5)(7**2)(11)”. Написать тесты для кода"
      ]
    },
    {
      "cell_type": "code",
      "execution_count": 92,
      "metadata": {
        "id": "pFebmcZk94Jw"
      },
      "outputs": [
        {
          "name": "stdout",
          "output_type": "stream",
          "text": [
            "Все тесты прошли успешно!\n"
          ]
        }
      ],
      "source": [
        "def prime_factors(n):\n",
        "    if n <= 0:\n",
        "        return \"Число должно быть положительным!\"\n",
        "    if n == 1:\n",
        "        return \"1\"\n",
        "    \n",
        "    factors = []\n",
        "    # Обработка делителя 2:\n",
        "    count = 0\n",
        "    while n % 2 == 0:\n",
        "        count += 1\n",
        "        n = n // 2\n",
        "    if count > 0:\n",
        "        factors.append((2, count))\n",
        "        \n",
        "    # Обработка нечётных делителей:\n",
        "    i = 3\n",
        "    max_factor = int(n**0.5) + 1\n",
        "    while i <= max_factor:\n",
        "        count = 0\n",
        "        while n % i == 0:\n",
        "            count += 1\n",
        "            n = n // i\n",
        "            max_factor = int(n**0.5) + 1\n",
        "        if count > 0:\n",
        "            factors.append((i, count))\n",
        "        i += 2\n",
        "    \n",
        "    if n > 1:\n",
        "        factors.append((n, 1))\n",
        "        \n",
        "    # Формирование строки результата:\n",
        "    result = []\n",
        "    for (num, power) in factors:\n",
        "        if power == 1:\n",
        "            result.append(f\"({num})\")\n",
        "        else:\n",
        "            result.append(f\"({num}**{power})\")\n",
        "    return \"\".join(result)\n",
        "\n",
        "# Тесты для простых чисел\n",
        "assert prime_factors(2) == \"(2)\"\n",
        "assert prime_factors(3) == \"(3)\"\n",
        "assert prime_factors(5) == \"(5)\"\n",
        "assert prime_factors(7) == \"(7)\"\n",
        "assert prime_factors(11) == \"(11)\"\n",
        "\n",
        "# Тесты для степеней простых чисел\n",
        "assert prime_factors(4) == \"(2**2)\"\n",
        "assert prime_factors(8) == \"(2**3)\"\n",
        "assert prime_factors(9) == \"(3**2)\"\n",
        "assert prime_factors(25) == \"(5**2)\"\n",
        "\n",
        "# Тесты для составных чисел\n",
        "assert prime_factors(6) == \"(2)(3)\"\n",
        "assert prime_factors(10) == \"(2)(5)\"\n",
        "assert prime_factors(12) == \"(2**2)(3)\"\n",
        "assert prime_factors(15) == \"(3)(5)\"\n",
        "assert prime_factors(30) == \"(2)(3)(5)\"\n",
        "\n",
        "# Тест для большого числа\n",
        "assert prime_factors(86240) == \"(2**5)(5)(7**2)(11)\"\n",
        "\n",
        "# Тесты для граничных случаев\n",
        "assert prime_factors(1) == \"1\"\n",
        "assert prime_factors(0) == \"Число должно быть положительным!\"\n",
        "assert prime_factors(-10) == \"Число должно быть положительным!\"\n",
        "\n",
        "# Тест для большого простого числа\n",
        "assert prime_factors(2147483647) == \"(2147483647)\"  # 2^31 - 1 (простое число Мерсенна)\n",
        "\n",
        "print(\"Все тесты прошли успешно!\")"
      ]
    },
    {
      "cell_type": "markdown",
      "metadata": {
        "id": "ps2s0BudX7A2"
      },
      "source": [
        "# Задача 7\n",
        "Написать функцию, принимающая целое число n, задающее количество кубиков. Функция\n",
        "должна определить, можно ли из данного кол-ва кубиков построить пирамиду, то есть\n",
        "можно ли представить число n как 1^2+2^2+3^2+…+k^2. Если можно, то функция должна\n",
        "вернуть k, иначе строку “It is impossible”. Написать тесты для кода"
      ]
    },
    {
      "cell_type": "code",
      "execution_count": 99,
      "metadata": {
        "id": "3YPjEXxhX_YT"
      },
      "outputs": [
        {
          "name": "stdout",
          "output_type": "stream",
          "text": [
            "Все тесты прошли успешно!\n"
          ]
        }
      ],
      "source": [
        "def pyramid(number):\n",
        "    if number <= 0:\n",
        "        return \"It is impossible\"\n",
        "    \n",
        "    k = 1\n",
        "    sum = 0\n",
        "    \n",
        "    while sum <= number:\n",
        "        sum = k * (k + 1) * ((2 * k) + 1) // 6\n",
        "        if sum == number:\n",
        "            return k\n",
        "        if sum > number:\n",
        "            return \"It is impossible\"\n",
        "        k = k + 1\n",
        "        \n",
        "# Тест 1: Минимальное значение (1 кубик → пирамида высоты 1)\n",
        "assert pyramid(1) == 1, \"Ошибка: 1 кубик должен давать k=1\"\n",
        "\n",
        "# Тест 2: Число, которое можно разложить в сумму квадратов (1² + 2² + 3² = 14)\n",
        "assert pyramid(14) == 3, \"Ошибка: 14 кубиков → k=3\"\n",
        "\n",
        "# Тест 3: Число, которое НЕЛЬЗЯ разложить (например, 15)\n",
        "assert pyramid(15) == \"It is impossible\", \"Ошибка: 15 кубиков невозможно разложить\"\n",
        "\n",
        "# Тест 4: Большое число, которое можно разложить (k=5 → 1² + 2² + 3² + 4² + 5² = 55)\n",
        "assert pyramid(55) == 5, \"Ошибка: 55 кубиков → k=5\"\n",
        "\n",
        "# Тест 5: Ноль кубиков → невозможно\n",
        "assert pyramid(0) == \"It is impossible\", \"Ошибка: 0 кубиков → невозможно\"\n",
        "\n",
        "# Тест 6: Отрицательное число → невозможно\n",
        "assert pyramid(-10) == \"It is impossible\", \"Ошибка: отрицательное число → невозможно\"\n",
        "\n",
        "# Тест 7: Следующее возможное число после 14 (k=4 → 1² + 2² + 3² + 4² = 30)\n",
        "assert pyramid(30) == 4, \"Ошибка: 30 кубиков → k=4\"\n",
        "\n",
        "# Тест 8: Число, близкое к возможному, но не подходящее (29 вместо 30)\n",
        "assert pyramid(29) == \"It is impossible\", \"Ошибка: 29 кубиков → невозможно\"\n",
        "\n",
        "print(\"Все тесты прошли успешно!\")\n",
        "        \n",
        "            "
      ]
    },
    {
      "cell_type": "markdown",
      "metadata": {
        "id": "KeKgmIdAQMEJ"
      },
      "source": [
        "# Задача 8\n",
        "Функция принимает на вход положительное число и определяет является ли оно сбалансированным, т.е. сумма цифр до средних равна сумме цифр после. Средними в случае нечетного числа цифр считать одну цифру, в случае четного - две средних. Написать тесты для кода"
      ]
    },
    {
      "cell_type": "code",
      "execution_count": 103,
      "metadata": {
        "id": "gMAAqtqlQrZt"
      },
      "outputs": [
        {
          "name": "stdout",
          "output_type": "stream",
          "text": [
            "Все тесты пройдены успешно!\n"
          ]
        }
      ],
      "source": [
        "def balanced_number(n):\n",
        "    if not isinstance(n, int) or n < 0:\n",
        "        raise ValueError(\"Функция принимает только целые положительные числа\")\n",
        "    \n",
        "    digits = str(n)\n",
        "    length = len(digits)\n",
        "    \n",
        "    if length == 1:\n",
        "        return True\n",
        "    if length % 2 == 1:\n",
        "        mid = length // 2\n",
        "        left_part = digits[:mid]\n",
        "        right_part = digits[mid + 1:]\n",
        "    else:\n",
        "        mid_left = length // 2 - 1\n",
        "        mid_right = length // 2\n",
        "        left_part = digits[:mid_left]\n",
        "        right_part = digits[mid_right + 1:]\n",
        "    \n",
        "    sum_left = sum(int(d) for d in left_part)\n",
        "    sum_right = sum(int(d) for d in right_part)\n",
        "    \n",
        "    return sum_left == sum_right\n",
        "    \n",
        "# Тесты (позитивные случаи)\n",
        "assert balanced_number(1) == True\n",
        "assert balanced_number(12) == True\n",
        "assert balanced_number(123) == False\n",
        "assert balanced_number(123321) == True\n",
        "assert balanced_number(12521) == True\n",
        "assert balanced_number(100001) == True\n",
        "\n",
        "# Тесты на обработку ошибок\n",
        "try:\n",
        "    balanced_number(-123)\n",
        "    assert False, \"Ожидалась ошибка ValueError для отрицательного числа\"\n",
        "except ValueError:\n",
        "    pass\n",
        "\n",
        "try:\n",
        "    balanced_number(0)\n",
        "    # Теперь 0 допустим, поэтому проверяем, что он сбалансирован\n",
        "    assert balanced_number(0) == True, \"Ноль должен считаться сбалансированным\"\n",
        "except ValueError:\n",
        "    assert False, \"Ноль не должен вызывать ошибку\"\n",
        "\n",
        "try:\n",
        "    balanced_number(12.34)\n",
        "    assert False, \"Ожидалась ошибка ValueError для дробного числа\"\n",
        "except ValueError:\n",
        "    pass\n",
        "\n",
        "try:\n",
        "    balanced_number(\"123\")\n",
        "    assert False, \"Ожидалась ошибка ValueError для строки\"\n",
        "except ValueError:\n",
        "    pass\n",
        "\n",
        "print(\"Все тесты пройдены успешно!\")"
      ]
    }
  ],
  "metadata": {
    "colab": {
      "provenance": []
    },
    "kernelspec": {
      "display_name": "Python 3",
      "name": "python3"
    },
    "language_info": {
      "codemirror_mode": {
        "name": "ipython",
        "version": 3
      },
      "file_extension": ".py",
      "mimetype": "text/x-python",
      "name": "python",
      "nbconvert_exporter": "python",
      "pygments_lexer": "ipython3",
      "version": "3.13.0"
    }
  },
  "nbformat": 4,
  "nbformat_minor": 0
}
